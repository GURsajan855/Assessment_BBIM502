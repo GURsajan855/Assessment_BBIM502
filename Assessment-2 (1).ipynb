{
 "cells": [
  {
   "cell_type": "code",
   "execution_count": 10,
   "id": "1a804458-f919-4ba8-bc49-1950a66fd19e",
   "metadata": {
    "scrolled": true
   },
   "outputs": [
    {
     "name": "stdout",
     "output_type": "stream",
     "text": [
      "\n",
      "=== Hotel Management System ===\n",
      "1. Add Room\n",
      "2. Delete Room\n",
      "3. Display Room Details\n",
      "4. Allocate Room\n",
      "5. Display Room Allocation Details\n",
      "6. Save Room Allocation Details to File\n",
      "7. Display Room Allocation Details from File\n",
      "8. Billing & De-Allocation\n",
      "9. Backup LHMS_Studentid.txt file\n",
      "0. Exit Application\n"
     ]
    },
    {
     "name": "stdin",
     "output_type": "stream",
     "text": [
      "Enter your choice:  1\n",
      "Enter room number:  001\n",
      "enter room type delux super / delux normal:  delux normal\n",
      "500/400:  400\n"
     ]
    },
    {
     "name": "stdout",
     "output_type": "stream",
     "text": [
      "Room 001 added successfully.\n",
      "\n",
      "=== Hotel Management System ===\n",
      "1. Add Room\n",
      "2. Delete Room\n",
      "3. Display Room Details\n",
      "4. Allocate Room\n",
      "5. Display Room Allocation Details\n",
      "6. Save Room Allocation Details to File\n",
      "7. Display Room Allocation Details from File\n",
      "8. Billing & De-Allocation\n",
      "9. Backup LHMS_Studentid.txt file\n",
      "0. Exit Application\n"
     ]
    },
    {
     "name": "stdin",
     "output_type": "stream",
     "text": [
      "Enter your choice:  3\n"
     ]
    },
    {
     "name": "stdout",
     "output_type": "stream",
     "text": [
      "Room Number: 001, Type: delux normal, Price: 400.0, Status: Available, Customer: None\n",
      "\n",
      "=== Hotel Management System ===\n",
      "1. Add Room\n",
      "2. Delete Room\n",
      "3. Display Room Details\n",
      "4. Allocate Room\n",
      "5. Display Room Allocation Details\n",
      "6. Save Room Allocation Details to File\n",
      "7. Display Room Allocation Details from File\n",
      "8. Billing & De-Allocation\n",
      "9. Backup LHMS_Studentid.txt file\n",
      "0. Exit Application\n"
     ]
    },
    {
     "name": "stdin",
     "output_type": "stream",
     "text": [
      "Enter your choice:  4\n",
      "Enter room number to allocate:  001\n",
      "Enter customer name:  gursajan\n",
      "Enter customer ID:  234565\n",
      "Enter customer contact:  234566543\n"
     ]
    },
    {
     "name": "stdout",
     "output_type": "stream",
     "text": [
      "Room 001 allocated successfully to gursajan.\n",
      "\n",
      "=== Hotel Management System ===\n",
      "1. Add Room\n",
      "2. Delete Room\n",
      "3. Display Room Details\n",
      "4. Allocate Room\n",
      "5. Display Room Allocation Details\n",
      "6. Save Room Allocation Details to File\n",
      "7. Display Room Allocation Details from File\n",
      "8. Billing & De-Allocation\n",
      "9. Backup LHMS_Studentid.txt file\n",
      "0. Exit Application\n"
     ]
    },
    {
     "name": "stdin",
     "output_type": "stream",
     "text": [
      "Enter your choice:  5\n"
     ]
    },
    {
     "name": "stdout",
     "output_type": "stream",
     "text": [
      "Room Number: 001, Customer Name: gursajan, Customer ID: 234565, Customer Contact: 234566543, Allocation Time: 2024-07-11 22:35:57\n",
      "\n",
      "=== Hotel Management System ===\n",
      "1. Add Room\n",
      "2. Delete Room\n",
      "3. Display Room Details\n",
      "4. Allocate Room\n",
      "5. Display Room Allocation Details\n",
      "6. Save Room Allocation Details to File\n",
      "7. Display Room Allocation Details from File\n",
      "8. Billing & De-Allocation\n",
      "9. Backup LHMS_Studentid.txt file\n",
      "0. Exit Application\n"
     ]
    },
    {
     "name": "stdin",
     "output_type": "stream",
     "text": [
      "Enter your choice:  6\n"
     ]
    },
    {
     "name": "stdout",
     "output_type": "stream",
     "text": [
      "Room allocation details saved to LHMS_850000897.txt.\n",
      "\n",
      "=== Hotel Management System ===\n",
      "1. Add Room\n",
      "2. Delete Room\n",
      "3. Display Room Details\n",
      "4. Allocate Room\n",
      "5. Display Room Allocation Details\n",
      "6. Save Room Allocation Details to File\n",
      "7. Display Room Allocation Details from File\n",
      "8. Billing & De-Allocation\n",
      "9. Backup LHMS_Studentid.txt file\n",
      "0. Exit Application\n"
     ]
    },
    {
     "name": "stdin",
     "output_type": "stream",
     "text": [
      "Enter your choice:  7\n"
     ]
    },
    {
     "name": "stdout",
     "output_type": "stream",
     "text": [
      "001,gursajan,234565,234566543,2024-07-11 22:35:57\n",
      "\n",
      "\n",
      "=== Hotel Management System ===\n",
      "1. Add Room\n",
      "2. Delete Room\n",
      "3. Display Room Details\n",
      "4. Allocate Room\n",
      "5. Display Room Allocation Details\n",
      "6. Save Room Allocation Details to File\n",
      "7. Display Room Allocation Details from File\n",
      "8. Billing & De-Allocation\n",
      "9. Backup LHMS_Studentid.txt file\n",
      "0. Exit Application\n"
     ]
    },
    {
     "name": "stdin",
     "output_type": "stream",
     "text": [
      "Enter your choice:  8\n",
      "Enter room number to deallocate:  001\n"
     ]
    },
    {
     "name": "stdout",
     "output_type": "stream",
     "text": [
      "Bill amount for room 001: $400.0\n",
      "Room 001 deallocated successfully.\n",
      "\n",
      "=== Hotel Management System ===\n",
      "1. Add Room\n",
      "2. Delete Room\n",
      "3. Display Room Details\n",
      "4. Allocate Room\n",
      "5. Display Room Allocation Details\n",
      "6. Save Room Allocation Details to File\n",
      "7. Display Room Allocation Details from File\n",
      "8. Billing & De-Allocation\n",
      "9. Backup LHMS_Studentid.txt file\n",
      "0. Exit Application\n"
     ]
    },
    {
     "name": "stdin",
     "output_type": "stream",
     "text": [
      "Enter your choice:  9\n"
     ]
    },
    {
     "name": "stdout",
     "output_type": "stream",
     "text": [
      "Backup created: LHMS_850000897_Backup_20240711_223319.txt\n",
      "\n",
      "=== Hotel Management System ===\n",
      "1. Add Room\n",
      "2. Delete Room\n",
      "3. Display Room Details\n",
      "4. Allocate Room\n",
      "5. Display Room Allocation Details\n",
      "6. Save Room Allocation Details to File\n",
      "7. Display Room Allocation Details from File\n",
      "8. Billing & De-Allocation\n",
      "9. Backup LHMS_Studentid.txt file\n",
      "0. Exit Application\n"
     ]
    },
    {
     "name": "stdin",
     "output_type": "stream",
     "text": [
      "Enter your choice:  2\n",
      "Enter room number to delete:  001\n"
     ]
    },
    {
     "name": "stdout",
     "output_type": "stream",
     "text": [
      "Room 001 deleted successfully.\n",
      "\n",
      "=== Hotel Management System ===\n",
      "1. Add Room\n",
      "2. Delete Room\n",
      "3. Display Room Details\n",
      "4. Allocate Room\n",
      "5. Display Room Allocation Details\n",
      "6. Save Room Allocation Details to File\n",
      "7. Display Room Allocation Details from File\n",
      "8. Billing & De-Allocation\n",
      "9. Backup LHMS_Studentid.txt file\n",
      "0. Exit Application\n"
     ]
    },
    {
     "name": "stdin",
     "output_type": "stream",
     "text": [
      "Enter your choice:  0\n"
     ]
    },
    {
     "name": "stdout",
     "output_type": "stream",
     "text": [
      "Exiting application. Goodbye!\n"
     ]
    }
   ],
   "source": [
    "#name : gursajan singh\n",
    "#file name :bbim502_assesment_2\n",
    "#description :room \"langham hotel\"\n",
    "#date :14/07/2024\n",
    "import os\n",
    "import shutil\n",
    "from datetime import datetime\n",
    "\n",
    "# Constant filenames\n",
    "ROOMS_FILENAME = \"LHMS_850000897.txt\"\n",
    "BACKUP_FILENAME = f\"LHMS_850000897_Backup_{datetime.now().strftime('%Y%m%d_%H%M%S')}.txt\"\n",
    "\n",
    "# Define empty lists to store room and allocation data\n",
    "rooms = []\n",
    "allocations = []\n",
    "\n",
    "# Function to add a new room\n",
    "def add_room():\n",
    "    try:\n",
    "        room_number = input(\"Enter room number: \")\n",
    "        room_type = input(\"enter room type delux super / delux normal: \")\n",
    "        room_price = float(input(\"500/400: \"))\n",
    "        \n",
    "        rooms.append({\n",
    "            'number': room_number,\n",
    "            'type': room_type,\n",
    "            'price': room_price,\n",
    "            'status': 'Available',\n",
    "            'customer': None\n",
    "        })\n",
    "        print(f\"Room {room_number} added successfully.\")\n",
    "    except ValueError:\n",
    "        print(\"Invalid input for room price. Please enter a valid number.\")\n",
    "\n",
    "# Function to delete a room\n",
    "def delete_room():\n",
    "    try:\n",
    "        room_number = input(\"Enter room number to delete: \")\n",
    "        for room in rooms[:]:  # Iterate over a copy to avoid modifying during iteration\n",
    "            if room['number'] == room_number:\n",
    "                rooms.remove(room)\n",
    "                print(f\"Room {room_number} deleted successfully.\")\n",
    "                return\n",
    "        print(f\"Room {room_number} not found.\")\n",
    "    except Exception as e:\n",
    "        print(f\"Error: {str(e)}\")\n",
    "\n",
    "# Function to display room details\n",
    "def display_room_details():\n",
    "    try:\n",
    "        if not rooms:\n",
    "            print(\"No rooms to display.\")\n",
    "        else:\n",
    "            for room in rooms:\n",
    "                print(f\"Room Number: {room['number']}, Type: {room['type']}, Price: {room['price']}, Status: {room['status']}, Customer: {room['customer']}\")\n",
    "    except Exception as e:\n",
    "        print(f\"Error: {str(e)}\")\n",
    "\n",
    "# Function to allocate a room\n",
    "def allocate_room():\n",
    "    try:\n",
    "        room_number = input(\"Enter room number to allocate: \")\n",
    "        room = next((room for room in rooms if room['number'] == room_number), None)\n",
    "        if room:\n",
    "            if room['status'] == 'Available':\n",
    "                customer_name = input(\"Enter customer name: \")\n",
    "                customer_id = input(\"Enter customer ID: \")\n",
    "                customer_contact = input(\"Enter customer contact: \")\n",
    "                \n",
    "                room['status'] = 'Occupied'\n",
    "                room['customer'] = {\n",
    "                    'name': customer_name,\n",
    "                    'id': customer_id,\n",
    "                    'contact': customer_contact\n",
    "                }\n",
    "                print(f\"Room {room_number} allocated successfully to {customer_name}.\")\n",
    "                \n",
    "                allocations.append({\n",
    "                    'room_number': room_number,\n",
    "                    'customer_name': customer_name,\n",
    "                    'customer_id': customer_id,\n",
    "                    'customer_contact': customer_contact,\n",
    "                    'allocation_time': datetime.now().strftime('%Y-%m-%d %H:%M:%S')\n",
    "                })\n",
    "            else:\n",
    "                print(f\"Room {room_number} is already occupied.\")\n",
    "        else:\n",
    "            print(f\"Room {room_number} not found.\")\n",
    "    except Exception as e:\n",
    "        print(f\"Error: {str(e)}\")\n",
    "\n",
    "\n",
    "# Function to display room allocation details\n",
    "def display_room_allocation_details():\n",
    "    try:\n",
    "        if not allocations:\n",
    "            print(\"No room allocations to display.\")\n",
    "        else:\n",
    "            for alloc in allocations:\n",
    "                print(f\"Room Number: {alloc['room_number']}, Customer Name: {alloc['customer_name']}, Customer ID: {alloc['customer_id']}, Customer Contact: {alloc['customer_contact']}, Allocation Time: {alloc['allocation_time']}\")\n",
    "    except Exception as e:\n",
    "        print(f\"Error: {str(e)}\")\n",
    "\n",
    "\n",
    "# Function for billing and de-allocation\n",
    "def billing_and_deallocation():\n",
    "    try:\n",
    "        room_number = input(\"Enter room number to deallocate: \")\n",
    "        room = next((room for room in rooms if room['number'] == room_number), None)\n",
    "        if room:\n",
    "            if room['status'] == 'Occupied':\n",
    "                bill_amount = room['price'] * 1  # Calculate bill amount (adjust as needed)\n",
    "                print(f\"Bill amount for room {room_number}: ${bill_amount}\")\n",
    "                \n",
    "                room['status'] = 'Available'\n",
    "                room['customer'] = None\n",
    "                print(f\"Room {room_number} deallocated successfully.\")\n",
    "                \n",
    "                allocations[:] = [alloc for alloc in allocations if alloc['room_number'] != room_number]\n",
    "            else:\n",
    "                print(f\"Room {room_number} is not currently occupied.\")\n",
    "        else:\n",
    "            print(f\"Room {room_number} not found or already available.\")\n",
    "    except Exception as e:\n",
    "        print(f\"Error: {str(e)}\")\n",
    "\n",
    "\n",
    "# Function to save room allocation details to file\n",
    "def save_room_allocation_to_file(filename):\n",
    "    try:\n",
    "        with open(filename, 'w') as f:\n",
    "            for alloc in allocations:\n",
    "                f.write(f\"{alloc['room_number']},{alloc['customer_name']},{alloc['customer_id']},{alloc['customer_contact']},{alloc['allocation_time']}\\n\")\n",
    "        print(f\"Room allocation details saved to {filename}.\")\n",
    "    except Exception as e:\n",
    "        print(f\"Error: {str(e)}\")\n",
    "\n",
    "\n",
    "# Function to display room allocation details from file\n",
    "def show_room_allocation_from_file(filename):\n",
    "    try:\n",
    "        if os.path.exists(filename):\n",
    "            with open(filename, 'r') as f:\n",
    "                print(f.read())\n",
    "        else:\n",
    "            print(f\"File {filename} does not exist.\")\n",
    "    except Exception as e:\n",
    "        print(f\"Error: {str(e)}\")\n",
    "\n",
    "\n",
    "# Function to backup room allocation file\n",
    "def backup_room_allocation(original_filename, backup_filename):\n",
    "    try:\n",
    "        if os.path.exists(original_filename):\n",
    "            shutil.copyfile(original_filename, backup_filename)\n",
    "            open(original_filename, 'w').close()  # Clear original file after backup\n",
    "            print(f\"Backup created: {backup_filename}\")\n",
    "        else:\n",
    "            print(f\"File {original_filename} does not exist.\")\n",
    "    except Exception as e:\n",
    "        print(f\"Error: {str(e)}\")\n",
    "\n",
    "\n",
    "# Main menu function1\n",
    "def main_menu():\n",
    "    try:\n",
    "        while True:\n",
    "            print(\"\\n=== Hotel Management System ===\")\n",
    "            print(\"1. Add Room\")\n",
    "            print(\"2. Delete Room\")\n",
    "            print(\"3. Display Room Details\")\n",
    "            print(\"4. Allocate Room\")\n",
    "            print(\"5. Display Room Allocation Details\")\n",
    "            print(\"6. Save Room Allocation Details to File\")\n",
    "            print(\"7. Display Room Allocation Details from File\")\n",
    "            print(\"8. Billing & De-Allocation\")\n",
    "            print(\"9. Backup LHMS_Studentid.txt file\")\n",
    "            print(\"0. Exit Application\")\n",
    "            choice = input(\"Enter your choice: \")\n",
    "\n",
    "            if choice == '1':\n",
    "                add_room()\n",
    "            elif choice == '2':\n",
    "                delete_room()\n",
    "            elif choice == '3':\n",
    "                display_room_details()\n",
    "            elif choice == '4':\n",
    "                allocate_room()\n",
    "            elif choice == '5':\n",
    "                display_room_allocation_details()\n",
    "            elif choice == '6':\n",
    "                save_room_allocation_to_file(ROOMS_FILENAME)\n",
    "            elif choice == '7':\n",
    "                show_room_allocation_from_file(ROOMS_FILENAME)\n",
    "            elif choice == '8':\n",
    "                billing_and_deallocation()\n",
    "            elif choice == '9':\n",
    "                backup_room_allocation(ROOMS_FILENAME, BACKUP_FILENAME)\n",
    "            elif choice == '0':\n",
    "                print(\"Exiting application. Goodbye!\")\n",
    "                break\n",
    "            else:\n",
    "                print(\"Invalid choice. Please try again.\")\n",
    "    except Exception as e:\n",
    "        print(f\"Error: {str(e)}\")\n",
    "\n",
    "# Entry point of the program\n",
    "if __name__ == \"__main__\":\n",
    "    main_menu()\n"
   ]
  },
  {
   "cell_type": "code",
   "execution_count": null,
   "id": "ddad9238-a7d4-4d46-ae8e-5e21f9be5c56",
   "metadata": {},
   "outputs": [],
   "source": []
  }
 ],
 "metadata": {
  "kernelspec": {
   "display_name": "Python 3 (ipykernel)",
   "language": "python",
   "name": "python3"
  },
  "language_info": {
   "codemirror_mode": {
    "name": "ipython",
    "version": 3
   },
   "file_extension": ".py",
   "mimetype": "text/x-python",
   "name": "python",
   "nbconvert_exporter": "python",
   "pygments_lexer": "ipython3",
   "version": "3.11.7"
  }
 },
 "nbformat": 4,
 "nbformat_minor": 5
}
